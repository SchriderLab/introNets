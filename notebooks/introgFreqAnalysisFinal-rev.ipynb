{
 "cells": [
  {
   "cell_type": "markdown",
   "id": "a1234dc0-ff79-4475-a8bd-a05e0d5c1901",
   "metadata": {},
   "source": [
    "# Analysing the frequencies of introgressed alleles in *D. sechellia* using IntroUNET\n",
    "\n",
    "This notebook takes us through the steps of our analysis of the results from running IntroUNET on our *D. simulans* and *D. sechellia* data set. Before we start here, we have already run IntroUNET on these data to identify introgressed alleles (with the results in the .npz files that we read in in the third code block), and we also have the results from running FILET to call introgressed windows (the BED file in the second code block). The last bit of info we need is the input data to IntroUNET (the .npz files in the first code block immediately below), becuase these files also have the physical positions of the polymorphisms included in our analysis. Note that the paths to all of these files would be different if you were to run an IntroUNET analysis of your own, so treat these as placeholders.\n",
    "\n",
    "First, read in our input alignment data, which we can use to extract the physical positions of each SNP (will need this later)"
   ]
  },
  {
   "cell_type": "code",
   "execution_count": 2,
   "id": "b34958b5-3587-4dc8-8fe9-ddfd2d3b384e",
   "metadata": {},
   "outputs": [
    {
     "name": "stdout",
     "output_type": "stream",
     "text": [
      "2L\n",
      "(1327413,)\n",
      "\n",
      "2R\n",
      "(1158818,)\n",
      "\n",
      "3L\n",
      "(1377765,)\n",
      "\n",
      "3R\n",
      "(1638830,)\n",
      "\n",
      "X\n",
      "(897656,)\n",
      "\n"
     ]
    }
   ],
   "source": [
    "import numpy as np\n",
    "\n",
    "posDat, positions = {}, {}\n",
    "arms = [\"2L\", \"2R\", \"3L\", \"3R\", \"X\"]\n",
    "for arm in arms:\n",
    "    posDat[arm] = np.load(f'../realDataNpzs/simulans_sechellia_Scf_{arm}.phased.npz')\n",
    "    print(arm)\n",
    "    print(posDat[arm]['positions'].shape)\n",
    "    print(\"\")\n",
    "    positions[arm] = posDat[arm]['positions']"
   ]
  },
  {
   "cell_type": "markdown",
   "id": "d52dfcdc-52a5-42ec-8efe-a4da7ed18e1d",
   "metadata": {},
   "source": [
    "Next, we read in the results from the original FILET analysis (can be found here: https://github.com/kr-colab/FILET/tree/master/simSechResults)\n",
    "We build a table of all polymorphisms within the introgressed windows from the FILET paper (https://doi.org/10.1371/journal.pgen.1007341)\n",
    "We will be looking at the frequencies of introgressed haplotypes within these windows."
   ]
  },
  {
   "cell_type": "code",
   "execution_count": 3,
   "id": "2aa17322-4e52-451a-a0f7-f1bdec4016e2",
   "metadata": {},
   "outputs": [],
   "source": [
    "filetResults = \"/proj/dschridelab/drosophila/simSech/filetResults/intro_regions_sim_to_sech_clustered_flybase2.02.bed\"\n",
    "\n",
    "introgPositions = {}\n",
    "introgBedWins = []\n",
    "count = 0\n",
    "with open(filetResults, 'rt') as f:\n",
    "    for line in f:\n",
    "        arm, s, e = line.strip().split()\n",
    "        arm = arm.lstrip(\"chr\")\n",
    "        s, e = int(s), int(e)\n",
    "        count += 1\n",
    "        for pos in range(s+1, e+1):\n",
    "            introgPositions[(arm, pos)] = 1\n",
    "        introgBedWins.append((arm, s, e))"
   ]
  },
  {
   "cell_type": "markdown",
   "id": "3aa02bfb-e687-4eca-b153-79944ae281e0",
   "metadata": {},
   "source": [
    "Now, we read in the aactual segmentation results from IntroUNET and print out some summary information. The `Y` key is used to store the predicted introgression probabilities for each `D. sechellia` individual at each SNP in the chromosome arm.\n",
    "\n",
    "The and `x2i` key is used to specify which *D. sechellia* genome is shown at a given index of the `Y` array. We will need this information later to calculate frequencies, because some individuals appear twice in this array.\n",
    "\n",
    "Note: This ordering only specifies the arrangement of individuals in our output `Y` array here, not the ordering of individuals in the actual input to IntroUNET, which varies across the genome because each window is seriated separately."
   ]
  },
  {
   "cell_type": "code",
   "execution_count": 4,
   "id": "beb43113-c1a0-4d9d-95a4-e9c9b5ade44d",
   "metadata": {},
   "outputs": [
    {
     "name": "stdout",
     "output_type": "stream",
     "text": [
      "['Y', 'x1i', 'x2i']\n",
      "(32, 1327413)\n",
      "[20 21 22 23 24 25 26 27 28 29 30 31 32 33 20 23 30 32 25 28 28 30 28 30\n",
      " 25 24 29 26 28 29 24 24]\n",
      "\n",
      "['Y', 'x1i', 'x2i']\n",
      "(32, 1158818)\n",
      "[20 21 22 23 24 25 26 27 28 29 30 31 32 33 25 32 25 33 23 29 31 31 32 33\n",
      " 29 28 31 20 29 22 23 20]\n",
      "\n",
      "['Y', 'x1i', 'x2i']\n",
      "(32, 1377765)\n",
      "[20 21 22 23 24 25 26 27 28 29 30 31 32 33 31 30 26 25 21 27 26 22 29 28\n",
      " 30 32 30 30 25 21 22 26]\n",
      "\n",
      "['Y', 'x1i', 'x2i']\n",
      "(32, 1638830)\n",
      "[20 21 22 23 24 25 26 27 28 29 30 31 32 33 23 21 24 32 26 24 33 21 21 26\n",
      " 25 32 24 27 28 28 29 28]\n",
      "\n",
      "['Y', 'x1i', 'x2i']\n",
      "(32, 897656)\n",
      "[20 21 22 23 24 25 26 27 28 29 30 31 32 33 26 26 26 27 28 29 26 33 31 24\n",
      " 33 32 29 29 23 26 27 28]\n",
      "\n"
     ]
    }
   ],
   "source": [
    "segDat = {}\n",
    "for arm in arms:\n",
    "    segDat[arm] = np.load(f'../seg_preds/{arm}.npz')\n",
    "    print(list(segDat[arm].keys()))\n",
    "    print(segDat[arm]['Y'].shape)\n",
    "    print(segDat[arm]['x2i'])\n",
    "    print(\"\")"
   ]
  },
  {
   "cell_type": "markdown",
   "id": "b8bff3cc-23c2-4f8e-92e8-66ae2c9c0889",
   "metadata": {},
   "source": [
    "Next, we are going to calculate the introgression frequencies for each SNP within our introgressed windows. We define some helper functions for this below.\n",
    "\n",
    "The first of these functions pulls out the indices of all IntroUNET predictions for a given individual. For most individuals there will be more than one, because we upsampled to bring our output up to the necessary size (32).\n",
    "\n",
    "In the second function, we actually obtain our frequency estimate at a given site. This is done by averaging all of IntroUNET's predictions for a given individual at that site. Next, we use Platt recalibration to turn this prediction into a better estimate of the posterior probability that this allele was introgressed."
   ]
  },
  {
   "cell_type": "code",
   "execution_count": 5,
   "id": "6c328306-9c83-46eb-bab4-aaeee2705fed",
   "metadata": {},
   "outputs": [],
   "source": [
    "import math\n",
    "\n",
    "def getSegIndicesForSamples(sampleMapping):\n",
    "    sampleToIndices = {}\n",
    "    offset = min(sampleMapping)\n",
    "    for sampleIndex in range(offset, offset+len(set(sampleMapping))):\n",
    "        sampleToIndices[sampleIndex] = []\n",
    "\n",
    "    for i in range(len(sampleMapping)):\n",
    "        sampleIndex = sampleMapping[i]\n",
    "        sampleToIndices[sampleIndex].append(i)\n",
    "    return sampleToIndices\n",
    "\n",
    "def getIntrogFreqAtSite(segs, siteIndex, samples, sampleMapping, plattA=1.242379784584045410, plattB=-1.195908665657043457, thresh=0.95):\n",
    "    segScores = 0\n",
    "    for sample in samples:\n",
    "        segScoreForSample = np.mean(segs[sampleMapping[sample], siteIndex])\n",
    "        segScoreForSample = math.log((1 - segScoreForSample)/segScoreForSample)\n",
    "        segScoreForSample = 1/(1 + math.exp(plattA*segScoreForSample + plattB))\n",
    "        if segScoreForSample > thresh:\n",
    "            segScores += 1\n",
    "            introgAllelesInSample[arm][sample][siteIndex] = 1\n",
    "    return segScores"
   ]
  },
  {
   "cell_type": "markdown",
   "id": "fb43925a-f6a2-47a3-939e-361f93cf654c",
   "metadata": {},
   "source": [
    "Next, we calculate introgression frequencies at each polymorphism within the introgressed windows from FILET."
   ]
  },
  {
   "cell_type": "code",
   "execution_count": 6,
   "id": "f2de07bb-7c78-405d-9c89-ff7050987145",
   "metadata": {},
   "outputs": [],
   "source": [
    "introgFreqs = {}\n",
    "introgAllelesInSample = {}\n",
    "\n",
    "for arm in arms:\n",
    "    introgAllelesInSample[arm] = {}\n",
    "    segs = segDat[arm]['Y'] #speeds things up\n",
    "    segIndices = getSegIndicesForSamples(segDat[arm]['x2i'])\n",
    "    \n",
    "    samples = sorted(list(set(segDat[arm]['x2i'])))\n",
    "\n",
    "    for sample in samples:\n",
    "        introgAllelesInSample[arm][sample] = {}\n",
    "    \n",
    "    for snp in range(segDat[arm]['Y'].shape[1]):\n",
    "        pos = positions[arm][snp]\n",
    "        if (arm, pos) in introgPositions:\n",
    "            introgFreq = getIntrogFreqAtSite(segs, snp, samples, segIndices)\n",
    "            if introgFreq < len(samples)*0.5 and introgFreq > 0:\n",
    "                introgFreqs[(arm, positions[arm][snp])] = introgFreq"
   ]
  },
  {
   "cell_type": "markdown",
   "id": "0da03bdc-0056-4584-b159-98ecf8eda18d",
   "metadata": {},
   "source": [
    "Now, because we are going to be comparing the frequencies of introgressed haplotypes between different annotation categories, we are going to read in the annotations for the *D. simulans* genome."
   ]
  },
  {
   "cell_type": "code",
   "execution_count": 7,
   "id": "0ba7aee9-33b9-400d-b0c1-05377a1a1736",
   "metadata": {},
   "outputs": [],
   "source": [
    "gffPath = \"/proj/dschridelab/drosophila/simulansFlyBaseRef/dsim-all-r2.02.gff.gz\"\n",
    "annotTypes = set([\"gene\", \"mRNA\", \"intron\", \"exon\", \"three_prime_UTR\", \"five_prime_UTR\", \"CDS\"])\n",
    "            \n",
    "import gzip\n",
    "\n",
    "freqsForType = {}\n",
    "for annotType in annotTypes:\n",
    "    freqsForType[annotType] = {}\n",
    "\n",
    "allAnnots = {}\n",
    "with gzip.open(gffPath, 'rt') as f:\n",
    "    for line in f:\n",
    "        if not line.startswith(\"#\"):\n",
    "            if line.startswith(\">\"):\n",
    "                break\n",
    "            else:\n",
    "                arm, source, annotType, s, e  = line.strip().split(\"\\t\")[:5]\n",
    "                arm = arm.split(\"_\")[1]\n",
    "                if annotType in annotTypes:\n",
    "                    s, e = int(s), int(e)\n",
    "                    for pos in range(s, e+1):\n",
    "                        if (arm, pos) in introgFreqs:\n",
    "                            freqsForType[annotType][(arm, pos)] = introgFreqs[(arm, pos)]\n",
    "                            allAnnots[(arm, pos)] = 1"
   ]
  },
  {
   "cell_type": "markdown",
   "id": "d29225f0-fc37-4e3b-a334-0962cf8081c8",
   "metadata": {},
   "source": [
    "Just for the heck of it, lets print out the number of SNPs and mean introgression frequency for each annotation type:"
   ]
  },
  {
   "cell_type": "code",
   "execution_count": 8,
   "id": "fc825c07-339d-4d72-886d-32b51a82a080",
   "metadata": {},
   "outputs": [
    {
     "name": "stdout",
     "output_type": "stream",
     "text": [
      "gene 47076 3.199974509304104\n",
      "CDS 8279 3.290373233482305\n",
      "five_prime_UTR 2340 3.414102564102564\n",
      "mRNA 46578 3.1916999441796556\n",
      "exon 13073 3.313547005278054\n",
      "three_prime_UTR 1740 3.42816091954023\n",
      "intron 36170 3.122449543820846\n",
      "intergenic 19798 3.736943125568239\n",
      "all 66874 3.358943685139217\n",
      "gene\n",
      "(array([0.23652817, 0.31789447, 0.1364517 , 0.16235024, 0.17175631,\n",
      "       0.17501912]), array([1.        , 1.83333333, 2.66666667, 3.5       , 4.33333333,\n",
      "       5.16666667, 6.        ]))\n",
      "\n"
     ]
    },
    {
     "data": {
      "image/png": "[encoded data removed]",
      "text/plain": [
       "<Figure size 432x288 with 1 Axes>"
      ]
     },
     "metadata": {
      "needs_background": "light"
     },
     "output_type": "display_data"
    },
    {
     "name": "stdout",
     "output_type": "stream",
     "text": [
      "CDS\n",
      "(array([0.18451504, 0.28191811, 0.23336152, 0.17552845, 0.15016306,\n",
      "       0.17451383]), array([1.        , 1.83333333, 2.66666667, 3.5       , 4.33333333,\n",
      "       5.16666667, 6.        ]))\n",
      "\n"
     ]
    },
    {
     "data": {
      "image/png": "[encoded data removed]",
      "text/plain": [
       "<Figure size 432x288 with 1 Axes>"
      ]
     },
     "metadata": {
      "needs_background": "light"
     },
     "output_type": "display_data"
    },
    {
     "name": "stdout",
     "output_type": "stream",
     "text": [
      "five_prime_UTR\n",
      "(array([0.2374359 , 0.22051282, 0.11794872, 0.25128205, 0.1774359 ,\n",
      "       0.19538462]), array([1.        , 1.83333333, 2.66666667, 3.5       , 4.33333333,\n",
      "       5.16666667, 6.        ]))\n",
      "\n"
     ]
    },
    {
     "data": {
      "image/png": "[encoded data removed]",
      "text/plain": [
       "<Figure size 432x288 with 1 Axes>"
      ]
     },
     "metadata": {
      "needs_background": "light"
     },
     "output_type": "display_data"
    },
    {
     "name": "stdout",
     "output_type": "stream",
     "text": [
      "mRNA\n",
      "(array([0.23771738, 0.32010821, 0.13561767, 0.16241144, 0.16926446,\n",
      "       0.17488085]), array([1.        , 1.83333333, 2.66666667, 3.5       , 4.33333333,\n",
      "       5.16666667, 6.        ]))\n",
      "\n"
     ]
    },
    {
     "data": {
      "image/png": "[encoded data removed]",
      "text/plain": [
       "<Figure size 432x288 with 1 Axes>"
      ]
     },
     "metadata": {
      "needs_background": "light"
     },
     "output_type": "display_data"
    },
    {
     "name": "stdout",
     "output_type": "stream",
     "text": [
      "exon\n",
      "(array([0.20515566, 0.265096  , 0.2035034 , 0.18184043, 0.16339019,\n",
      "       0.1810143 ]), array([1.        , 1.83333333, 2.66666667, 3.5       , 4.33333333,\n",
      "       5.16666667, 6.        ]))\n",
      "\n"
     ]
    },
    {
     "data": {
      "image/png": "[encoded data removed]",
      "text/plain": [
       "<Figure size 432x288 with 1 Axes>"
      ]
     },
     "metadata": {
      "needs_background": "light"
     },
     "output_type": "display_data"
    },
    {
     "name": "stdout",
     "output_type": "stream",
     "text": [
      "three_prime_UTR\n",
      "(array([0.20344828, 0.24344828, 0.1937931 , 0.16068966, 0.19241379,\n",
      "       0.2062069 ]), array([1.        , 1.83333333, 2.66666667, 3.5       , 4.33333333,\n",
      "       5.16666667, 6.        ]))\n",
      "\n"
     ]
    },
    {
     "data": {
      "image/png": "[encoded data removed]",
      "text/plain": [
       "<Figure size 432x288 with 1 Axes>"
      ]
     },
     "metadata": {
      "needs_background": "light"
     },
     "output_type": "display_data"
    },
    {
     "name": "stdout",
     "output_type": "stream",
     "text": [
      "intron\n",
      "(array([0.25612386, 0.34055847, 0.10954935, 0.15476915, 0.17202101,\n",
      "       0.16697816]), array([1.        , 1.83333333, 2.66666667, 3.5       , 4.33333333,\n",
      "       5.16666667, 6.        ]))\n",
      "\n"
     ]
    },
    {
     "data": {
      "image/png": "[encoded data removed]",
      "text/plain": [
       "<Figure size 432x288 with 1 Axes>"
      ]
     },
     "metadata": {
      "needs_background": "light"
     },
     "output_type": "display_data"
    },
    {
     "name": "stdout",
     "output_type": "stream",
     "text": [
      "intergenic\n",
      "(array([0.12510355, 0.23305384, 0.19674715, 0.19505001, 0.1775937 ,\n",
      "       0.27245176]), array([1.        , 1.83333333, 2.66666667, 3.5       , 4.33333333,\n",
      "       5.16666667, 6.        ]))\n",
      "\n"
     ]
    },
    {
     "data": {
      "image/png": "[encoded data removed]",
      "text/plain": [
       "<Figure size 432x288 with 1 Axes>"
      ]
     },
     "metadata": {
      "needs_background": "light"
     },
     "output_type": "display_data"
    }
   ],
   "source": [
    "freqsForType[\"intergenic\"] = {}   \n",
    "for arm, pos in introgFreqs:\n",
    "    if not (arm, pos) in allAnnots:\n",
    "        freqsForType[\"intergenic\"][(arm, pos)] = introgFreqs[(arm, pos)]\n",
    "                            \n",
    "for annotType in freqsForType:\n",
    "    freqs = list(freqsForType[annotType].values())\n",
    "    print(annotType, len(freqsForType[annotType]), np.mean(freqs))\n",
    "    \n",
    "allFreqs = [x for x in introgFreqs.values() if not np.isnan(x)]\n",
    "print(\"all\", len(allFreqs), np.mean(allFreqs))\n",
    "maxFreq = max(allFreqs)\n",
    "\n",
    "import matplotlib.pyplot as plt\n",
    "for annotType in freqsForType:\n",
    "    print(annotType)\n",
    "    print(np.histogram([x for x in freqsForType[annotType].values() if not np.isnan(x)], bins=maxFreq, density=True))\n",
    "    print(\"\")\n",
    "    \n",
    "    fig = plt.figure()\n",
    "    plt.hist([x for x in freqsForType[annotType].values() if not np.isnan(x)], bins=maxFreq, density=True)\n",
    "    plt.title(annotType)\n",
    "    plt.show()"
   ]
  },
  {
   "cell_type": "markdown",
   "id": "01c4c022-0465-4d08-a56d-8782e686feb3",
   "metadata": {},
   "source": [
    "But our focus here is on genic versus intregenic, so let's compare the two using a histogram. We will also a $\\chi^2$ test to compare these two frequency distributions, but the p-value will be anticonservative because of LD."
   ]
  },
  {
   "cell_type": "code",
   "execution_count": 9,
   "id": "22f0f7d6-aa69-4747-8368-5788b4f33c9a",
   "metadata": {},
   "outputs": [
    {
     "data": {
      "image/png": "[encoded data removed]",
      "text/plain": [
       "<Figure size 432x288 with 1 Axes>"
      ]
     },
     "metadata": {
      "needs_background": "light"
     },
     "output_type": "display_data"
    },
    {
     "name": "stdout",
     "output_type": "stream",
     "text": [
      "[9279, 12471, 5353, 6369, 6738, 6866]\n",
      "[2064, 3845, 3246, 3218, 2930, 4495]\n",
      "1882.880349506145 0.0\n"
     ]
    }
   ],
   "source": [
    "maxFreq = max(allFreqs)\n",
    "\n",
    "plt.hist([x for x in freqsForType['gene'].values() if not np.isnan(x)], bins=maxFreq, density=True, alpha=0.5, label='Genic', color='red')\n",
    "plt.hist([x for x in freqsForType['intergenic'].values() if not np.isnan(x)], bins=maxFreq, density=True, alpha=0.5, label='Intergenic', color='blue')\n",
    "plt.xlabel(\"Number of genomes with the introgressed haplotype\", fontsize=12)\n",
    "plt.ylabel(\"Fraction of inferred introgressed haplotypes\", fontsize=12)\n",
    "plt.legend(fontsize=12)\n",
    "plt.xticks(fontsize=12)\n",
    "plt.yticks(fontsize=12)\n",
    "plt.show()\n",
    "\n",
    "import scipy.stats\n",
    "import collections\n",
    "genicCounts = collections.Counter([x for x in freqsForType[\"gene\"].values() if not np.isnan(x)])\n",
    "intergenicCounts = collections.Counter([x for x in freqsForType[\"intergenic\"].values() if not np.isnan(x)])\n",
    "genicCounts = [genicCounts.get(x, 0) for x in range(1, maxFreq+1)]\n",
    "print(genicCounts)\n",
    "intergenicCounts = [intergenicCounts.get(x, 0) for x in range(1, maxFreq+1)]\n",
    "print(intergenicCounts)\n",
    "xsquare, pval, dof, exp = scipy.stats.chi2_contingency([genicCounts, intergenicCounts])\n",
    "print(xsquare, pval)"
   ]
  },
  {
   "cell_type": "markdown",
   "id": "39870244-1624-4492-9e3b-de9ca6b1506a",
   "metadata": {},
   "source": [
    "Finally, we will compare frequencies inside and outside of the adaptive introgression region on 3R:"
   ]
  },
  {
   "cell_type": "code",
   "execution_count": 10,
   "id": "4416f456-cf6c-4f4a-8aca-8b43c6d5139f",
   "metadata": {},
   "outputs": [
    {
     "name": "stdout",
     "output_type": "stream",
     "text": [
      "Sweep Region 3848 3.4547817047817047 0\n",
      "Other 63026 3.353092374575572 0\n",
      "\n"
     ]
    },
    {
     "data": {
      "image/png": "[encoded data removed]",
      "text/plain": [
       "<Figure size 432x288 with 1 Axes>"
      ]
     },
     "metadata": {
      "needs_background": "light"
     },
     "output_type": "display_data"
    },
    {
     "name": "stdout",
     "output_type": "stream",
     "text": [
      "[1306, 631, 78, 82, 342, 1409]\n",
      "[10037, 15685, 8521, 9505, 9326, 9952]\n",
      "2611.2153375911435 0.0\n"
     ]
    }
   ],
   "source": [
    "freqsForSweepType = {\"Sweep Region\": {}, \"Other\": {}}                   \n",
    "for arm, pos in introgFreqs:\n",
    "    if arm == \"3R\" and pos <= 4769900 and pos > 4539900:\n",
    "        freqsForSweepType[\"Sweep Region\"][(arm, pos)] = introgFreqs[(arm, pos)]\n",
    "    else:\n",
    "        freqsForSweepType[\"Other\"][(arm, pos)] = introgFreqs[(arm, pos)]\n",
    "\n",
    "for annotType in freqsForSweepType:\n",
    "    freqs = list(freqsForSweepType[annotType].values())\n",
    "    print(annotType, len(freqsForSweepType[annotType]), np.nanmean(freqs), len([x for x in np.isnan(freqs) if x]))\n",
    "print(\"\")\n",
    "         \n",
    "plt.hist([x for x in freqsForSweepType['Sweep Region'].values() if not np.isnan(x)], bins=6, density=True, alpha=0.5, label='Sweep Region', color='blue')\n",
    "plt.hist([x for x in freqsForSweepType['Other'].values() if not np.isnan(x)], bins=6, density=True, alpha=0.5, label='Outside of Sweep Region', color='red')\n",
    "plt.xlabel(\"Number of genomes with the introgressed haplotype\", fontsize=12)\n",
    "plt.ylabel(\"Fraction of inferred introgressed haplotypes\", fontsize=12)\n",
    "plt.legend(fontsize=12)\n",
    "plt.xticks(fontsize=12)\n",
    "plt.yticks(fontsize=12)\n",
    "plt.show()\n",
    "\n",
    "sweepCounts = collections.Counter([x for x in freqsForSweepType[\"Sweep Region\"].values() if not np.isnan(x)])\n",
    "otherCounts = collections.Counter([x for x in freqsForSweepType[\"Other\"].values() if not np.isnan(x)])\n",
    "maxFreq = max(allFreqs)\n",
    "sweepCounts = [sweepCounts.get(x, 0) for x in range(1, maxFreq+1)]\n",
    "print(sweepCounts)\n",
    "otherCounts = [otherCounts.get(x, 0) for x in range(1, maxFreq+1)]\n",
    "print(otherCounts)\n",
    "xsquare, pval, dof, exp = scipy.stats.chi2_contingency([sweepCounts, otherCounts])\n",
    "print(xsquare, pval)"
   ]
  },
  {
   "cell_type": "markdown",
   "id": "cf1219c7-4f67-4529-9c12-c99af012efd4",
   "metadata": {},
   "source": [
    "## Getting introgressed haplotype lengths at increasing distances from the center of the sweep region"
   ]
  },
  {
   "cell_type": "code",
   "execution_count": 34,
   "id": "950a3bf9-5661-4198-a5aa-17ff8297a526",
   "metadata": {},
   "outputs": [
    {
     "data": {
      "image/png": "[encoded data removed]",
      "text/plain": [
       "<Figure size 432x288 with 1 Axes>"
      ]
     },
     "metadata": {
      "needs_background": "light"
     },
     "output_type": "display_data"
    }
   ],
   "source": [
    "def getIntrogRuns(introgSnpIndices):\n",
    "    indices = sorted(introgSnpIndices)\n",
    "    runStart = indices[0]\n",
    "    prevIndex = runStart\n",
    "    runs = []\n",
    "    \n",
    "    for i in range(1, len(indices)):\n",
    "        #print(i, indices[i], len(indices))\n",
    "        if indices[i] == prevIndex + 1:\n",
    "            prevIndex = indices[i]\n",
    "        else:\n",
    "            run = (positions[arm][runStart], positions[arm][prevIndex])\n",
    "            runs.append(run)\n",
    "            runStart = indices[i]\n",
    "            prevIndex = runStart\n",
    "    run = (positions[arm][runStart], positions[arm][prevIndex])\n",
    "    runs.append(run)\n",
    "    return runs\n",
    "            \n",
    "\n",
    "# this is the approximate location of the lowest-diversity region of the sweep\n",
    "# (data from https://journals.plos.org/plosgenetics/article?id=10.1371/journal.pgen.1007341)\n",
    "sweepSite = 4624900\n",
    "arm = '3R'\n",
    "\n",
    "dists = list(range(0, 100000, 10000))\n",
    "hapLensInDistBin = []\n",
    "for dist in dists:\n",
    "    hapLensInDistBin.append([])\n",
    "\n",
    "for sample in samples:\n",
    "    runs = getIntrogRuns(introgAllelesInSample[arm][sample])\n",
    "    for s, e in runs:\n",
    "        d = min([abs(sweepSite-s), abs(sweepSite-e)])\n",
    "        if d < 1e5:\n",
    "            runL = e-s+1\n",
    "            \n",
    "            distBin = int(d / 1e4)\n",
    "            hapLensInDistBin[distBin].append(runL)\n",
    "\n",
    "\n",
    "bplot = plt.boxplot(hapLensInDistBin, labels=dists)\n",
    "plt.xlabel(\"Distance from the sweep center\", fontsize=12)\n",
    "plt.ylabel(\"Lengths of introgressed haplotypes\", fontsize=12)\n",
    "plt.xticks(fontsize=10)\n",
    "plt.yticks(fontsize=12)\n",
    "\n",
    "for i in range(1, len(hapLensInDistBin)):\n",
    "    sweepLens = hapLensInDistBin[0]\n",
    "    currLens = hapLensInDistBin[i]\n",
    "\n",
    "plt.tight_layout()\n",
    "plt.savefig(f\"introg_hap_lens_near_sweep.pdf\")\n",
    "plt.show()"
   ]
  },
  {
   "cell_type": "code",
   "execution_count": null,
   "id": "031fa815-0370-42bc-ac41-5bbd9790a678",
   "metadata": {},
   "outputs": [],
   "source": []
  }
 ],
 "metadata": {
  "kernelspec": {
   "display_name": "Python 3 (ipykernel)",
   "language": "python",
   "name": "python3"
  },
  "language_info": {
   "codemirror_mode": {
    "name": "ipython",
    "version": 3
   },
   "file_extension": ".py",
   "mimetype": "text/x-python",
   "name": "python",
   "nbconvert_exporter": "python",
   "pygments_lexer": "ipython3",
   "version": "3.9.7"
  }
 },
 "nbformat": 4,
 "nbformat_minor": 5
}
